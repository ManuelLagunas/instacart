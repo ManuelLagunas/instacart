{
 "cells": [
  {
   "cell_type": "markdown",
   "metadata": {},
   "source": [
    "# Preprocessing Products"
   ],
   "id": "122afce9-67a0-400f-8477-b779eaaebe2b"
  },
  {
   "cell_type": "markdown",
   "metadata": {},
   "source": [
    "# Libraries"
   ],
   "id": "25945319"
  },
  {
   "cell_type": "code",
   "execution_count": 1,
   "metadata": {},
   "outputs": [],
   "source": [
    "#  ---------- libraries ---------\n",
    "import pandas as pd"
   ],
   "id": "949b94fe"
  },
  {
   "cell_type": "markdown",
   "metadata": {},
   "source": [
    "# Read Data"
   ],
   "id": "74f369df"
  },
  {
   "cell_type": "code",
   "execution_count": 2,
   "metadata": {},
   "outputs": [],
   "source": [
    "# ---------- read data ----------\n",
    "df = pd.read_csv('datasets/products_raw.csv', sep=';')\n",
    "df_aisles = pd.read_csv('datasets/aisles_raw.csv', sep=';')\n",
    "df_departments = pd.read_csv('datasets/departments_raw.csv', sep=';')"
   ],
   "id": "acb19242"
  },
  {
   "cell_type": "markdown",
   "metadata": {},
   "source": [
    "# Preprocessing\n",
    "\n",
    "## Data type"
   ],
   "id": "14e30857"
  },
  {
   "cell_type": "code",
   "execution_count": 3,
   "metadata": {},
   "outputs": [
    {
     "output_type": "stream",
     "name": "stdout",
     "text": [
      "<class 'pandas.core.frame.DataFrame'>\n",
      "RangeIndex: 49694 entries, 0 to 49693\n",
      "Data columns (total 4 columns):\n",
      " #   Column         Non-Null Count  Dtype \n",
      "---  ------         --------------  ----- \n",
      " 0   product_id     49694 non-null  object\n",
      " 1   product_name   49694 non-null  object\n",
      " 2   aisle_id       49694 non-null  object\n",
      " 3   department_id  49694 non-null  object\n",
      "dtypes: object(4)\n",
      "memory usage: 1.5+ MB"
     ]
    }
   ],
   "source": [
    "# data type ----------\n",
    "df = df.astype('str')\n",
    "df.info()"
   ],
   "id": "b07a110f"
  },
  {
   "cell_type": "markdown",
   "metadata": {},
   "source": [
    "## Duplicated data"
   ],
   "id": "fa38930c"
  },
  {
   "cell_type": "code",
   "execution_count": 4,
   "metadata": {},
   "outputs": [
    {
     "output_type": "display_data",
     "metadata": {},
     "data": {
      "text/html": [
       "\n",
       "</div>"
      ],
      "text/markdown": [
       "     product_id   product_name   aisle_id   department_id\n",
       "  -- ------------ -------------- ---------- ---------------\n"
      ]
     }
    }
   ],
   "source": [
    "# duplicated data ----------\n",
    "df[df.duplicated()]"
   ],
   "id": "e699562d"
  },
  {
   "cell_type": "code",
   "execution_count": 5,
   "metadata": {},
   "outputs": [
    {
     "output_type": "stream",
     "name": "stdout",
     "text": [
      "El numero de valores duplicados es: 0\n"
     ]
    }
   ],
   "source": [
    "print('El numero de valores duplicados es:',df.duplicated().sum())\n",
    "print()"
   ],
   "id": "3f94ff21"
  },
  {
   "cell_type": "code",
   "execution_count": 6,
   "metadata": {},
   "outputs": [
    {
     "output_type": "stream",
     "name": "stdout",
     "text": [
      "El numero de nombres duplicados es: 1361\n",
      "\n",
      "Los valores duplicados son:\n"
     ]
    },
    {
     "output_type": "display_data",
     "metadata": {},
     "data": {
      "text/html": [
       "\n",
       "<p>104 rows × 2 columns</p>\n",
       "</div>"
      ],
      "text/markdown": [
       "         product_name                                count\n",
       "  ------ ------------------------------------------- -------\n",
       "  0      nan                                         1257\n",
       "  1      green tea with ginseng and honey            2\n",
       "  2      carrot and celery sticks                    1\n",
       "  3      ibuprofen tablets 200 mg                    1\n",
       "  4      blanc de noirs                              1\n",
       "  \\...   \\...                                        \\...\n",
       "  99     muenster cheese slices                      1\n",
       "  100    potatoes o\\'brien with onions and peppers   1\n",
       "  101    beef chili with beans                       1\n",
       "  102    candy bar                                   1\n",
       "  103    burrito- steak & cheese                     1\n"
      ]
     }
    }
   ],
   "source": [
    "# Duplicated data products names\n",
    "df['product_name']=df['product_name'].str.lower()\n",
    "print('El numero de nombres duplicados es:', df['product_name'].duplicated().sum())\n",
    "print()\n",
    "print('Los valores duplicados son:')\n",
    "print()\n",
    "duplicated_product_names = df['product_name'][df['product_name'].duplicated()].value_counts().to_frame().reset_index()\n",
    "duplicated_product_names.columns = ['product_name', 'count']\n",
    "duplicated_product_names"
   ],
   "id": "5be405cf"
  },
  {
   "cell_type": "markdown",
   "metadata": {},
   "source": [
    "**Conclusión** Los datos demuestran que existen nombres duplicados, que considero no opresentan mayor problema ya que tienen diferentes product_id, lo que persivo es que la mayoria de valores duplicados son valores Nan por lo que se debe decidir que hacer con estos\n",
    "\n",
    "## Missing data\n",
    "\n",
    "**Hipotesis** Los valores ausentes en la columna product_name estan relacionados con el pasillo con id 100 y con el departamento con id 21"
   ],
   "id": "358bfafc"
  },
  {
   "cell_type": "code",
   "execution_count": 7,
   "metadata": {},
   "outputs": [
    {
     "output_type": "display_data",
     "metadata": {},
     "data": {
      "text/html": [
       "\n",
       "<p>1258 rows × 4 columns</p>\n",
       "</div>"
      ],
      "text/markdown": [
       "          product_id   product_name   aisle_id   department_id\n",
       "  ------- ------------ -------------- ---------- ---------------\n",
       "  37      38           nan            100        21\n",
       "  71      72           nan            100        21\n",
       "  109     110          nan            100        21\n",
       "  296     297          nan            100        21\n",
       "  416     417          nan            100        21\n",
       "  \\...    \\...         \\...           \\...       \\...\n",
       "  49552   49553        nan            100        21\n",
       "  49574   49575        nan            100        21\n",
       "  49640   49641        nan            100        21\n",
       "  49663   49664        nan            100        21\n",
       "  49668   49669        nan            100        21\n"
      ]
     }
    }
   ],
   "source": [
    "# Aislar los datos nulos\n",
    "df_nan_product_name = df[df['product_name'] == 'nan']\n",
    "df_nan_product_name"
   ],
   "id": "fdbf7dd5"
  },
  {
   "cell_type": "code",
   "execution_count": 8,
   "metadata": {},
   "outputs": [
    {
     "output_type": "stream",
     "name": "stdout",
     "text": [
      "¿Son todos los valores de la columna aisle_id 100? True"
     ]
    }
   ],
   "source": [
    "# Son todos los valores de aisle_id 100?\n",
    "all_aisle_id_100 = (df_nan_product_name['aisle_id'] == '100').all()\n",
    "print('¿Son todos los valores de la columna aisle_id 100?',all_aisle_id_100)"
   ],
   "id": "9443d3f4"
  },
  {
   "cell_type": "code",
   "execution_count": 9,
   "metadata": {},
   "outputs": [
    {
     "output_type": "stream",
     "name": "stdout",
     "text": [
      "¿Son todos los valores de la columna department_id 21? True"
     ]
    }
   ],
   "source": [
    "# Son todos los valores de department_id 21?\n",
    "all_department_id_21 = (df_nan_product_name['department_id'] == '21').all()\n",
    "print('¿Son todos los valores de la columna department_id 21?',all_department_id_21)"
   ],
   "id": "b60601d0"
  },
  {
   "cell_type": "markdown",
   "metadata": {},
   "source": [
    "**Conclusión** Los valores ausentes corresponden todos a el pasillo 100 y el departamento 21 Por lo que se tiene que hacer un estudio en los demas dataframes para tratar de descubrir a que se refieren estos vaslores\n",
    "\n",
    "### Missing data study"
   ],
   "id": "e3483363"
  },
  {
   "cell_type": "code",
   "execution_count": 10,
   "metadata": {},
   "outputs": [
    {
     "output_type": "stream",
     "name": "stdout",
     "text": [
      "missing\n",
      "missing"
     ]
    }
   ],
   "source": [
    "# Busqueda de que departamento corresponde\n",
    "print(df_departments.loc[20,'department'])\n",
    "print(df_aisles.loc[99,'aisle'])"
   ],
   "id": "eced4c76"
  },
  {
   "cell_type": "markdown",
   "metadata": {},
   "source": [
    "**Conclusión** Los valores arrojados por el estudio son missing, por lo que serán imputados en los valores ausentes."
   ],
   "id": "75ad3655"
  },
  {
   "cell_type": "code",
   "execution_count": 11,
   "metadata": {},
   "outputs": [
    {
     "output_type": "stream",
     "name": "stdout",
     "text": [
      "el numero de valores ausentes del dataframe es:\n",
      " product_id       0\n",
      "product_name     0\n",
      "aisle_id         0\n",
      "department_id    0\n",
      "dtype: int64"
     ]
    }
   ],
   "source": [
    "# \n",
    "df['product_name']=df['product_name'].fillna('missing')\n",
    "print('el numero de valores ausentes del dataframe es:\\n',df.isnull().sum())"
   ],
   "id": "2decb413"
  },
  {
   "cell_type": "markdown",
   "metadata": {},
   "source": [
    "# Save data"
   ],
   "id": "df677d08"
  },
  {
   "cell_type": "code",
   "execution_count": 12,
   "metadata": {},
   "outputs": [],
   "source": [
    "# ---------- save data ----------\n",
    "df.to_csv('datasets/clean_products.csv', index=False)"
   ],
   "id": "6870e5e7"
  }
 ],
 "nbformat": 4,
 "nbformat_minor": 5,
 "metadata": {}
}
