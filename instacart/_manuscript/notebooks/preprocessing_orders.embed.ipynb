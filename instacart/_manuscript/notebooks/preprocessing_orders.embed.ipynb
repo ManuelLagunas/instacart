{
 "cells": [
  {
   "cell_type": "markdown",
   "metadata": {},
   "source": [
    "# Preprocessing orders"
   ],
   "id": "59b6f464-988d-445b-b217-7533063a79ad"
  },
  {
   "cell_type": "markdown",
   "metadata": {},
   "source": [
    "# Libraries"
   ],
   "id": "af34ec1f"
  },
  {
   "cell_type": "code",
   "execution_count": 1,
   "metadata": {},
   "outputs": [],
   "source": [
    "#  ---------- libraries ---------\n",
    "import pandas as pd\n",
    "import numpy as np"
   ],
   "id": "1dc0350a"
  },
  {
   "cell_type": "markdown",
   "metadata": {},
   "source": [
    "# Read data"
   ],
   "id": "f5a87282"
  },
  {
   "cell_type": "code",
   "execution_count": 2,
   "metadata": {},
   "outputs": [],
   "source": [
    "# ---------- read data ----------\n",
    "df = pd.read_csv('datasets/instacart_orders_raw.csv', sep=';')"
   ],
   "id": "7491b51d"
  },
  {
   "cell_type": "markdown",
   "metadata": {},
   "source": [
    "# Preprocessing\n",
    "\n",
    "## Duplicated data"
   ],
   "id": "aecdc403"
  },
  {
   "cell_type": "code",
   "execution_count": 3,
   "metadata": {},
   "outputs": [
    {
     "output_type": "display_data",
     "metadata": {},
     "data": {
      "text/html": [
       "\n",
       "</div>"
      ],
      "text/markdown": [
       "           order_id   user_id   order_number   order_dow   order_hour_of_day   days_since_prior_order\n",
       "  -------- ---------- --------- -------------- ----------- ------------------- ------------------------\n",
       "  145574   794638     50898     24             3           2                   2.0\n",
       "  223105   2160484    107525    16             3           2                   30.0\n",
       "  230807   1918001    188546    14             3           2                   16.0\n",
       "  266232   1782114    106752    1              3           2                   NaN\n",
       "  273805   1112182    202304    84             3           2                   6.0\n",
       "  284038   2845099    31189     11             3           2                   7.0\n",
       "  311713   1021560    53767     3              3           2                   9.0\n",
       "  321100   408114     68324     4              3           2                   18.0\n",
       "  323900   1919531    191501    32             3           2                   7.0\n",
       "  345917   2232988    82565     1              3           2                   NaN\n",
       "  371905   391768     57671     19             3           2                   10.0\n",
       "  394347   467134     63189     21             3           2                   2.0\n",
       "  411408   1286742    183220    48             3           2                   4.0\n",
       "  415163   2282673    86751     49             3           2                   2.0\n",
       "  441599   2125197    14050     48             3           2                   3.0\n"
      ]
     }
    }
   ],
   "source": [
    "# ---------- preprocessing ----------\n",
    "# duplicated data ----------\n",
    "df[df.duplicated()]"
   ],
   "id": "48c3ba5b"
  },
  {
   "cell_type": "code",
   "execution_count": 4,
   "metadata": {},
   "outputs": [
    {
     "output_type": "stream",
     "name": "stdout",
     "text": [
      "El numero de valores duplicados es: 15"
     ]
    }
   ],
   "source": [
    "print('El numero de valores duplicados es:',df.duplicated().sum())"
   ],
   "id": "ceb704da"
  },
  {
   "cell_type": "markdown",
   "metadata": {},
   "source": [
    "Los valores duplicados tienen en comun que son del dia miercoles a las 2, por lo que seria bueno estudiar mas a fondo esta hipotesis preio a dar alguna solucion\n",
    "\n",
    "### Duplicated data study\n",
    "\n",
    "Hipotesis: Todos los pedisos duplicados se realizaron el día miercoles a las 2"
   ],
   "id": "817b4314"
  },
  {
   "cell_type": "code",
   "execution_count": 5,
   "metadata": {},
   "outputs": [
    {
     "output_type": "display_data",
     "metadata": {},
     "data": {
      "text/html": [
       "\n",
       "<p>121 rows × 6 columns</p>\n",
       "</div>"
      ],
      "text/markdown": [
       "           order_id   user_id   order_number   order_dow   order_hour_of_day   days_since_prior_order\n",
       "  -------- ---------- --------- -------------- ----------- ------------------- ------------------------\n",
       "  4838     2766110    162084    41             3           2                   16.0\n",
       "  5156     2190225    138285    18             3           2                   11.0\n",
       "  15506    553049     58599     13             3           2                   7.0\n",
       "  18420    382357     120200    19             3           2                   11.0\n",
       "  24691    690242     77357     2              3           2                   9.0\n",
       "  \\...     \\...       \\...      \\...           \\...        \\...                \\...\n",
       "  457013   3384021    14881     6              3           2                   30.0\n",
       "  458816   910166     164782    18             3           2                   4.0\n",
       "  459635   1680532    106435    6              3           2                   21.0\n",
       "  468324   222962     54979     59             3           2                   3.0\n",
       "  477526   2592344    46860     38             3           2                   3.0\n"
      ]
     }
    }
   ],
   "source": [
    "df[(df['order_dow'] == 3) & (df['order_hour_of_day']==2)]"
   ],
   "id": "173e35e3"
  },
  {
   "cell_type": "markdown",
   "metadata": {},
   "source": [
    "La hipotesis es correcta. Lo que suguiere que se puede tratar de un error temporal en el sistema de captura de datos\n",
    "\n",
    "### Duplicated data elimination"
   ],
   "id": "86e19194"
  },
  {
   "cell_type": "code",
   "execution_count": 6,
   "metadata": {},
   "outputs": [
    {
     "output_type": "stream",
     "name": "stdout",
     "text": [
      "Empty DataFrame\n",
      "Columns: [order_id, user_id, order_number, order_dow, order_hour_of_day, days_since_prior_order]\n",
      "Index: []\n",
      "\n",
      "El numero de valores duplicados es: 0"
     ]
    }
   ],
   "source": [
    "# duplicated data elimination ----------\n",
    "df = df.drop_duplicates().reset_index(drop=True)\n",
    "duplicates = df[df.duplicated()]\n",
    "print(duplicates)\n",
    "print()\n",
    "print('El numero de valores duplicados es:',df.duplicated().sum())"
   ],
   "id": "3e421e52"
  },
  {
   "cell_type": "markdown",
   "metadata": {},
   "source": [
    "Se encontraron y eliminaron 15 valores duplicados\n",
    "\n",
    "## Missing data"
   ],
   "id": "797e326b"
  },
  {
   "cell_type": "code",
   "execution_count": 7,
   "metadata": {},
   "outputs": [
    {
     "output_type": "stream",
     "name": "stdout",
     "text": [
      "Numero de valores ausentes\n",
      "order_id                      0\n",
      "user_id                       0\n",
      "order_number                  0\n",
      "order_dow                     0\n",
      "order_hour_of_day             0\n",
      "days_since_prior_order    28817\n",
      "dtype: int64"
     ]
    }
   ],
   "source": [
    "# missing data ----------\n",
    "print('Numero de valores ausentes')\n",
    "print(df.isna().sum())"
   ],
   "id": "ac182e00"
  },
  {
   "cell_type": "code",
   "execution_count": 8,
   "metadata": {},
   "outputs": [
    {
     "output_type": "stream",
     "name": "stdout",
     "text": [
      "Porcentaje que representan de valores ausentes\n",
      "order_id                  0.000000\n",
      "user_id                   0.000000\n",
      "order_number              0.000000\n",
      "order_dow                 0.000000\n",
      "order_hour_of_day         0.000000\n",
      "days_since_prior_order    6.016678\n",
      "dtype: float64"
     ]
    }
   ],
   "source": [
    "print('Porcentaje que representan de valores ausentes')\n",
    "print((df.isna().sum()/df.shape[0]) * 100)"
   ],
   "id": "46bcbd82"
  },
  {
   "cell_type": "markdown",
   "metadata": {},
   "source": [
    "Los valores ausentes pertenecen a la columna de days_since_prior_order por lo que sugiere que los valores ausentes son registros asociados al primer pedido. Ya que no habrá días después de la primera orden si el registro corresponde precisamente a la primer orden. Por lo que los valores ausentes se pueden inputar con el valor 0."
   ],
   "id": "adffe97b"
  },
  {
   "cell_type": "code",
   "execution_count": 9,
   "metadata": {},
   "outputs": [
    {
     "output_type": "stream",
     "name": "stdout",
     "text": [
      "El numero de valores duplicados es: 0"
     ]
    }
   ],
   "source": [
    "df['days_since_prior_order'] = df['days_since_prior_order'].fillna(0)\n",
    "print('El numero de valores duplicados es:',df.duplicated().sum())"
   ],
   "id": "767e5588"
  },
  {
   "cell_type": "markdown",
   "metadata": {},
   "source": [
    "## Data types"
   ],
   "id": "ee47b4d8"
  },
  {
   "cell_type": "code",
   "execution_count": 10,
   "metadata": {},
   "outputs": [
    {
     "output_type": "stream",
     "name": "stdout",
     "text": [
      "<class 'pandas.core.frame.DataFrame'>\n",
      "RangeIndex: 478952 entries, 0 to 478951\n",
      "Data columns (total 6 columns):\n",
      " #   Column                  Non-Null Count   Dtype  \n",
      "---  ------                  --------------   -----  \n",
      " 0   order_id                478952 non-null  int64  \n",
      " 1   user_id                 478952 non-null  int64  \n",
      " 2   order_number            478952 non-null  int64  \n",
      " 3   order_dow               478952 non-null  int64  \n",
      " 4   order_hour_of_day       478952 non-null  int64  \n",
      " 5   days_since_prior_order  478952 non-null  float64\n",
      "dtypes: float64(1), int64(5)\n",
      "memory usage: 21.9 MB"
     ]
    }
   ],
   "source": [
    "# data types ----------\n",
    "df.info()"
   ],
   "id": "edce7856"
  },
  {
   "cell_type": "code",
   "execution_count": 11,
   "metadata": {},
   "outputs": [],
   "source": [
    "df['order_id'] = df['order_id'].astype('str')\n",
    "df['user_id'] = df['user_id'].astype('str')\n",
    "df['days_since_prior_order'] = df['days_since_prior_order'].astype('int')"
   ],
   "id": "e809d7de"
  },
  {
   "cell_type": "code",
   "execution_count": 12,
   "metadata": {},
   "outputs": [
    {
     "output_type": "stream",
     "name": "stdout",
     "text": [
      "<class 'pandas.core.frame.DataFrame'>\n",
      "RangeIndex: 478952 entries, 0 to 478951\n",
      "Data columns (total 6 columns):\n",
      " #   Column                  Non-Null Count   Dtype \n",
      "---  ------                  --------------   ----- \n",
      " 0   order_id                478952 non-null  object\n",
      " 1   user_id                 478952 non-null  object\n",
      " 2   order_number            478952 non-null  int64 \n",
      " 3   order_dow               478952 non-null  int64 \n",
      " 4   order_hour_of_day       478952 non-null  int64 \n",
      " 5   days_since_prior_order  478952 non-null  int64 \n",
      "dtypes: int64(4), object(2)\n",
      "memory usage: 21.9+ MB"
     ]
    }
   ],
   "source": [
    "df.info()"
   ],
   "id": "aaa383f6"
  },
  {
   "cell_type": "markdown",
   "metadata": {},
   "source": [
    "# Save data"
   ],
   "id": "2fe2a86b"
  },
  {
   "cell_type": "code",
   "execution_count": 13,
   "metadata": {},
   "outputs": [],
   "source": [
    "# ---------- save data ----------\n",
    "df.to_csv('datasets/clean_orders.csv', index=False)"
   ],
   "id": "7707872c"
  }
 ],
 "nbformat": 4,
 "nbformat_minor": 5,
 "metadata": {}
}
